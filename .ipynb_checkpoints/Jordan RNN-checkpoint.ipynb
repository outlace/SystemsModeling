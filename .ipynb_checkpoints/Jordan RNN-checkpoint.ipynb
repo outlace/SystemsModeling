{
 "cells": [
  {
   "cell_type": "code",
   "execution_count": 47,
   "metadata": {
    "collapsed": true
   },
   "outputs": [],
   "source": [
    "import numpy as np"
   ]
  },
  {
   "cell_type": "code",
   "execution_count": 48,
   "metadata": {
    "collapsed": true
   },
   "outputs": [],
   "source": [
    "train_data = np.array([0,0,0,0,1,1,1,0,1,1,1,0])"
   ]
  },
  {
   "cell_type": "code",
   "execution_count": 70,
   "metadata": {
    "collapsed": false
   },
   "outputs": [],
   "source": [
    "theta1 = np.random.randn(6).reshape((3,2))\n",
    "theta2 = np.random.randn(3).T\n",
    "a1 = np.zeros(3) #input layer activation vector 1x3\n",
    "a1[1] = 1 #set bias as 1, because it's a bias..\n",
    "a2 = np.zeros(3) #hidden layer activation vector\n",
    "a2[2] = 1 #set hidden layer bias\n",
    "a3 = np.zeros(1) #output layer activation vector"
   ]
  },
  {
   "cell_type": "code",
   "execution_count": 78,
   "metadata": {
    "collapsed": false
   },
   "outputs": [],
   "source": [
    "def sigmoid(x): return 1 / (1 + np.exp(- x)) #Just our run-of-the-mill sigmoid function\n",
    "#x is input vector [input1 ; bias1] in this case\n",
    "def runForward(x):\n",
    "    global a1, a2, a3\n",
    "    a1 = np.append(x, [a1[1], a1[2]]) #1x3\n",
    "    sigma1 = np.dot(a1, theta1) #1x3 * 3x2 = 1x2\n",
    "    a2 = sigmoid(np.append(sigma1,[1])).T #1x3\n",
    "    sigma2 = np.dot(a2.T, theta2.T) #1x3 * 3x1 1x1\n",
    "    a3 = sigmoid(sigma2)\n",
    "    a1[2] = a3 #set the context/state node for next run\n",
    "    print(\"Input: %s, Output: %s\" % (x, a3))"
   ]
  },
  {
   "cell_type": "code",
   "execution_count": 79,
   "metadata": {
    "collapsed": false
   },
   "outputs": [
    {
     "name": "stdout",
     "output_type": "stream",
     "text": [
      "Input: [0], Output: 0.624509234555\n"
     ]
    }
   ],
   "source": [
    "x = np.array([0])\n",
    "runForward(x)"
   ]
  },
  {
   "cell_type": "code",
   "execution_count": null,
   "metadata": {
    "collapsed": true
   },
   "outputs": [],
   "source": [
    "def train():\n",
    "    pass"
   ]
  }
 ],
 "metadata": {
  "kernelspec": {
   "display_name": "Python 3",
   "language": "python",
   "name": "python3"
  },
  "language_info": {
   "codemirror_mode": {
    "name": "ipython",
    "version": 3
   },
   "file_extension": ".py",
   "mimetype": "text/x-python",
   "name": "python",
   "nbconvert_exporter": "python",
   "pygments_lexer": "ipython3",
   "version": "3.4.3"
  }
 },
 "nbformat": 4,
 "nbformat_minor": 0
}
