{
 "cells": [
  {
   "cell_type": "code",
   "execution_count": 4,
   "metadata": {
    "collapsed": false
   },
   "outputs": [],
   "source": [
    "import numpy as np\n",
    "X = np.matrix([ [0,0],[0,1],[1,0],[1,1] ]) #4x2 (4=num training examples)\n",
    "y = np.matrix([[0,0,1,1]]).T #4x1\n",
    "theta1 = np.matrix(2*np.random.random((3,1)) - 1) #3x1\n",
    "theta1_grad = np.matrix(np.zeros((3,1)))\n",
    "alpha = 0.1 #learning rate\n",
    "epochs = 250\n",
    "def sigmoid(x):\n",
    "    return np.matrix(1.0 / (1.0 + np.exp(-x)))"
   ]
  },
  {
   "cell_type": "code",
   "execution_count": 5,
   "metadata": {
    "collapsed": false
   },
   "outputs": [
    {
     "name": "stderr",
     "output_type": "stream",
     "text": [
      "/Library/Frameworks/Python.framework/Versions/3.4/lib/python3.4/site-packages/IPython/kernel/__main__.py:9: RuntimeWarning: overflow encountered in exp\n"
     ]
    }
   ],
   "source": [
    "for j in range(epochs):\n",
    "    for x in range(X.shape[0]): #for each training example\n",
    "        a1 = np.matrix(np.concatenate((X[x,:], np.ones((1,1))), axis=1))\n",
    "        z1 = np.matrix(a1.dot(theta1)) #1x3 * 3x1\n",
    "        a2 = np.matrix(sigmoid(z1)) #output of layer 1; #1x3 * 3x1 = 1x1\n",
    "        a2_delta = np.matrix(a2 - y[x])\n",
    "        theta1_grad += np.matrix(theta1_grad + (a1.T.dot(a2_delta))) #3x1* 1x1\n",
    "    theta1 += -1 * np.multiply(alpha, theta1_grad)"
   ]
  },
  {
   "cell_type": "code",
   "execution_count": 10,
   "metadata": {
    "collapsed": false
   },
   "outputs": [
    {
     "name": "stderr",
     "output_type": "stream",
     "text": [
      "/Library/Frameworks/Python.framework/Versions/3.4/lib/python3.4/site-packages/IPython/kernel/__main__.py:9: RuntimeWarning: overflow encountered in exp\n"
     ]
    },
    {
     "data": {
      "text/plain": [
       "matrix([[ 1.],\n",
       "        [ 1.],\n",
       "        [ 0.],\n",
       "        [ 0.]])"
      ]
     },
     "execution_count": 10,
     "metadata": {},
     "output_type": "execute_result"
    }
   ],
   "source": [
    "X2 = np.matrix([ [1,1],[1,0],[0,1],[0,0] ])\n",
    "a1 = np.matrix(np.concatenate((X2, np.ones((4,1))), axis=1))\n",
    "z1 = np.matrix(a1.dot(theta1)) #1x3 * 3x1\n",
    "a2 = np.matrix(sigmoid(z1)) #output of layer 1; #1x3 * 3x1 = 1x1\n",
    "a2"
   ]
  },
  {
   "cell_type": "code",
   "execution_count": null,
   "metadata": {
    "collapsed": true
   },
   "outputs": [],
   "source": []
  }
 ],
 "metadata": {
  "kernelspec": {
   "display_name": "Python 3",
   "language": "python",
   "name": "python3"
  },
  "language_info": {
   "codemirror_mode": {
    "name": "ipython",
    "version": 3
   },
   "file_extension": ".py",
   "mimetype": "text/x-python",
   "name": "python",
   "nbconvert_exporter": "python",
   "pygments_lexer": "ipython3",
   "version": "3.4.3"
  }
 },
 "nbformat": 4,
 "nbformat_minor": 0
}
