{
 "cells": [
  {
   "cell_type": "code",
   "execution_count": 87,
   "metadata": {
    "collapsed": true
   },
   "outputs": [],
   "source": [
    "from PyDSTool import *\n",
    "import matplotlib.pyplot as plt\n",
    "import matplotlib.patches as mpatches\n",
    "%matplotlib inline"
   ]
  },
  {
   "cell_type": "code",
   "execution_count": 88,
   "metadata": {
    "collapsed": true
   },
   "outputs": [],
   "source": [
    "icdict = {'R': 1000, 'F': 10} #initial conditions\n",
    "pardict = {'a':0.1,'b':10000,'c':0.005,'d':0.00004,'g':0.04} #parameters"
   ]
  },
  {
   "cell_type": "code",
   "execution_count": 89,
   "metadata": {
    "collapsed": true
   },
   "outputs": [],
   "source": [
    "r_rhs = 'a*R*(1-R/b) - c*R*F'\n",
    "f_rhs = 'd*R*F - g*F'"
   ]
  },
  {
   "cell_type": "code",
   "execution_count": 90,
   "metadata": {
    "collapsed": true
   },
   "outputs": [],
   "source": [
    "vardict = {'R': r_rhs, 'F': f_rhs}"
   ]
  },
  {
   "cell_type": "code",
   "execution_count": 103,
   "metadata": {
    "collapsed": true
   },
   "outputs": [],
   "source": [
    "DSargs = args()                   # create an empty object instance of the args class, call it DSargs\n",
    "DSargs.name = 'RabbitFoxes'       # name our model\n",
    "DSargs.ics = icdict               # assign the icdict to the ics attribute\n",
    "DSargs.pars = pardict             # assign the pardict to the pars attribute\n",
    "DSargs.tdata = [0, 250]            # declare how long we expect to integrate for\n",
    "DSargs.varspecs = vardict         # assign the vardict dictionary to the 'varspecs' attribute of DSargs"
   ]
  },
  {
   "cell_type": "code",
   "execution_count": 104,
   "metadata": {
    "collapsed": false
   },
   "outputs": [],
   "source": [
    "DS = Generator.Vode_ODEsystem(DSargs)"
   ]
  },
  {
   "cell_type": "code",
   "execution_count": 105,
   "metadata": {
    "collapsed": true
   },
   "outputs": [],
   "source": [
    "traj = DS.compute('demo')\n",
    "pts = traj.sample()"
   ]
  },
  {
   "cell_type": "code",
   "execution_count": 106,
   "metadata": {
    "collapsed": false
   },
   "outputs": [
    {
     "data": {
      "text/plain": [
       "<matplotlib.legend.Legend at 0x10b122208>"
      ]
     },
     "execution_count": 106,
     "metadata": {},
     "output_type": "execute_result"
    },
    {
     "data": {
      "image/png": "[encoded data removed]",
      "text/plain": [
       "<matplotlib.figure.Figure at 0x108630a58>"
      ]
     },
     "metadata": {},
     "output_type": "display_data"
    }
   ],
   "source": [
    "fig, ax1 = plt.subplots()\n",
    "ax1.plot(pts['t'], pts['R'], 'b-', label='Rabbits') #rabbits BLUE\n",
    "ax1.set_ylabel('R\"')\n",
    "ax2 = ax1.twinx()\n",
    "ax2.plot(pts['t'], pts['F'], 'r-' ,label='Foxes') #foxes RED\n",
    "ax2.set_ylabel('F')\n",
    "plt.xlabel('t')\n",
    "#fox_label = mpatches.Patch(color='red', label='Foxes')\n",
    "#rabbit_label = mpatches.Patch(color='blue', label='Rabbits')\n",
    "#plt.legend(handles=[fox_label, rabbit_label])\n",
    "# ask matplotlib for the plotted objects and their labels\n",
    "lines, labels = ax1.get_legend_handles_labels()\n",
    "lines2, labels2 = ax2.get_legend_handles_labels()\n",
    "ax2.legend(lines + lines2, labels + labels2, loc=0)"
   ]
  },
  {
   "cell_type": "markdown",
   "metadata": {},
   "source": [
    "<p><b>Sources:</b>\n",
    "    <ul>\n",
    "        <li>http://www.math.smith.edu/Local/cicintro/ch4.pdf</li>\n",
    "    </ul>\n",
    "</p>"
   ]
  },
  {
   "cell_type": "code",
   "execution_count": null,
   "metadata": {
    "collapsed": true
   },
   "outputs": [],
   "source": []
  }
 ],
 "metadata": {
  "kernelspec": {
   "display_name": "Python 3",
   "language": "python",
   "name": "python3"
  },
  "language_info": {
   "codemirror_mode": {
    "name": "ipython",
    "version": 3
   },
   "file_extension": ".py",
   "mimetype": "text/x-python",
   "name": "python",
   "nbconvert_exporter": "python",
   "pygments_lexer": "ipython3",
   "version": "3.4.3"
  }
 },
 "nbformat": 4,
 "nbformat_minor": 0
}
